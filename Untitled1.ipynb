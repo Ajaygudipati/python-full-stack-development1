{
  "nbformat": 4,
  "nbformat_minor": 0,
  "metadata": {
    "colab": {
      "name": "Untitled1.ipynb",
      "provenance": [],
      "authorship_tag": "ABX9TyO/QkaN3VSch6DNGXzd2Z1D",
      "include_colab_link": true
    },
    "kernelspec": {
      "name": "python3",
      "display_name": "Python 3"
    },
    "language_info": {
      "name": "python"
    }
  },
  "cells": [
    {
      "cell_type": "markdown",
      "metadata": {
        "id": "view-in-github",
        "colab_type": "text"
      },
      "source": [
        "<a href=\"https://colab.research.google.com/github/Ajaygudipati/python-full-stack-development1/blob/main/Untitled1.ipynb\" target=\"_parent\"><img src=\"https://colab.research.google.com/assets/colab-badge.svg\" alt=\"Open In Colab\"/></a>"
      ]
    },
    {
      "cell_type": "code",
      "execution_count": null,
      "metadata": {
        "colab": {
          "base_uri": "https://localhost:8080/"
        },
        "id": "tOS5pS1Tvq2r",
        "outputId": "9eb9b78d-78f4-4444-c518-6de2c1754198"
      },
      "outputs": [
        {
          "output_type": "stream",
          "name": "stdout",
          "text": [
            "<class 'str'>\n"
          ]
        }
      ],
      "source": [
        "#empty tuple\n",
        "my_tuple=(\"hello\")\n",
        "print(type(my_tuple)) "
      ]
    },
    {
      "cell_type": "code",
      "source": [
        "#concatenation\n",
        "print((1, 2, 3)+ (4 ,5, 6))\n",
        "#repeat\n",
        "print((\"repeat\",)*4)"
      ],
      "metadata": {
        "colab": {
          "base_uri": "https://localhost:8080/"
        },
        "id": "f6vigD1HSwzJ",
        "outputId": "6ff7cdaf-39d0-4a18-9e01-c1c01bb2793e"
      },
      "execution_count": 2,
      "outputs": [
        {
          "output_type": "stream",
          "name": "stdout",
          "text": [
            "(1, 2, 3, 4, 5, 6)\n",
            "('repeat', 'repeat', 'repeat', 'repeat')\n"
          ]
        }
      ]
    },
    {
      "cell_type": "code",
      "source": [
        "tp1=([],1,2,3,4)\n",
        "print(all(tp1))"
      ],
      "metadata": {
        "colab": {
          "base_uri": "https://localhost:8080/"
        },
        "id": "buW_QmbLWrHh",
        "outputId": "0c9b3c76-622b-4f9c-8de3-4b69e3fa41ba"
      },
      "execution_count": 24,
      "outputs": [
        {
          "output_type": "stream",
          "name": "stdout",
          "text": [
            "False\n"
          ]
        }
      ]
    },
    {
      "cell_type": "code",
      "source": [
        "tp2=({1},\"a\",'1','2','3')\n",
        "all(tp2)"
      ],
      "metadata": {
        "colab": {
          "base_uri": "https://localhost:8080/"
        },
        "id": "DOoLCcXGX64Q",
        "outputId": "c2b5a4f9-19d6-4cc5-f61e-f07d4339004d"
      },
      "execution_count": 27,
      "outputs": [
        {
          "output_type": "execute_result",
          "data": {
            "text/plain": [
              "True"
            ]
          },
          "metadata": {},
          "execution_count": 27
        }
      ]
    },
    {
      "cell_type": "code",
      "source": [
        "my_tupl=(1,8,9,7,4,5,2,6,2)\n",
        "print('total count of element 2 is ',my_tupl.count(2))\n",
        "print('Index of 5 is ', my_tupl.index(5))\n",
        "print(2 in my_tupl)\n",
        "print(3 in my_tupl)\n",
        "print(5 not in my_tupl)\n",
        "print(len(my_tupl))\n",
        "print(min(my_tupl))\n",
        "print(max(my_tupl))\n",
        "print(sorted(my_tupl))\n",
        "print(sum(my_tupl))\n"
      ],
      "metadata": {
        "colab": {
          "base_uri": "https://localhost:8080/"
        },
        "id": "kCzy1QS_TYpZ",
        "outputId": "861995f1-cf42-4b17-fb3d-c9ef2b749a6a"
      },
      "execution_count": 37,
      "outputs": [
        {
          "output_type": "stream",
          "name": "stdout",
          "text": [
            "total count of element 2 is  2\n",
            "Index of 5 is  5\n",
            "True\n",
            "False\n",
            "False\n",
            "9\n",
            "1\n",
            "9\n",
            "[1, 2, 2, 4, 5, 6, 7, 8, 9]\n",
            "44\n"
          ]
        }
      ]
    },
    {
      "cell_type": "code",
      "source": [
        "languages=['java', 'python','c']\n",
        "enumerate=enumerate(languages)\n",
        "print(list(enumerate))"
      ],
      "metadata": {
        "colab": {
          "base_uri": "https://localhost:8080/"
        },
        "id": "jMh8LbGFbyw1",
        "outputId": "d755310b-aea2-4b00-a8c6-4d14420a79da"
      },
      "execution_count": 39,
      "outputs": [
        {
          "output_type": "stream",
          "name": "stdout",
          "text": [
            "[(0, 'java'), (1, 'python'), (2, 'c')]\n"
          ]
        }
      ]
    },
    {
      "cell_type": "code",
      "source": [
        "names=('ajay','shiva','aravind','avinash')\n",
        "for name in names:\n",
        "  print('hello hi', name)"
      ],
      "metadata": {
        "colab": {
          "base_uri": "https://localhost:8080/"
        },
        "id": "s1nGwCn9VBCZ",
        "outputId": "2d363fe7-f255-4c1e-e744-529a1024becd"
      },
      "execution_count": 12,
      "outputs": [
        {
          "output_type": "stream",
          "name": "stdout",
          "text": [
            "hello hi ajay\n",
            "hello hi shiva\n",
            "hello hi aravind\n",
            "hello hi avinash\n"
          ]
        }
      ]
    },
    {
      "cell_type": "code",
      "source": [
        "my_tuple=(\"hello\",)\n",
        "print(type(my_tuple))"
      ],
      "metadata": {
        "colab": {
          "base_uri": "https://localhost:8080/"
        },
        "id": "7kaH2mJQwP1l",
        "outputId": "c04e351d-9bfd-4e7b-82f1-9c30e73429b5"
      },
      "execution_count": null,
      "outputs": [
        {
          "output_type": "stream",
          "name": "stdout",
          "text": [
            "<class 'tuple'>\n"
          ]
        }
      ]
    },
    {
      "cell_type": "code",
      "source": [
        "my_tuple=\"hello\",\n",
        "print(type(my_tuple))"
      ],
      "metadata": {
        "colab": {
          "base_uri": "https://localhost:8080/"
        },
        "id": "PWosth_Rwby-",
        "outputId": "fe4221c3-2d7c-4625-d1ad-1a1fae5a4337"
      },
      "execution_count": null,
      "outputs": [
        {
          "output_type": "stream",
          "name": "stdout",
          "text": [
            "<class 'tuple'>\n"
          ]
        }
      ]
    },
    {
      "cell_type": "code",
      "source": [
        "my_tuple=()\n",
        "print(my_tuple)\n",
        "my_tuple=(\"1,2,3\")\n",
        "print(my_tuple)"
      ],
      "metadata": {
        "colab": {
          "base_uri": "https://localhost:8080/"
        },
        "id": "WKMinb4LwvIs",
        "outputId": "f23fb409-c654-4103-a668-0b6d5f4ab9e5"
      },
      "execution_count": null,
      "outputs": [
        {
          "output_type": "stream",
          "name": "stdout",
          "text": [
            "()\n",
            "1,2,3\n"
          ]
        }
      ]
    },
    {
      "cell_type": "code",
      "source": [
        "#nested tuple\n",
        "n_tuple = (\"ARJUN\", [8 , 4, 6], (1, 2, 3))\n",
        "\n",
        "print(n_tuple[0])\n",
        "print(n_tuple[1])\n",
        "\n",
        "print(n_tuple[0][0])\n",
        "print(n_tuple[1][0])"
      ],
      "metadata": {
        "colab": {
          "base_uri": "https://localhost:8080/"
        },
        "id": "86vQzP4ixYr6",
        "outputId": "53a31a83-34f6-4a3e-b1a4-86b24bf8fbea"
      },
      "execution_count": null,
      "outputs": [
        {
          "output_type": "stream",
          "name": "stdout",
          "text": [
            "ARJUN\n",
            "[8, 4, 6]\n",
            "A\n",
            "8\n"
          ]
        }
      ]
    },
    {
      "cell_type": "code",
      "source": [
        "n_tuple = (\"ARJUN\", [8 , 4, 6], (1, 2, 3))\n",
        "print(n_tuple)\n",
        "\n",
        "n_tuple[1][1]=20\n",
        "print(n_tuple)"
      ],
      "metadata": {
        "colab": {
          "base_uri": "https://localhost:8080/"
        },
        "id": "c8bjJ3kSyYj7",
        "outputId": "8d4a8ba3-d992-4410-833a-4c9866140ffa"
      },
      "execution_count": null,
      "outputs": [
        {
          "output_type": "stream",
          "name": "stdout",
          "text": [
            "('ARJUN', [8, 4, 6], (1, 2, 3))\n",
            "('ARJUN', [8, 20, 6], (1, 2, 3))\n"
          ]
        }
      ]
    }
  ]
}