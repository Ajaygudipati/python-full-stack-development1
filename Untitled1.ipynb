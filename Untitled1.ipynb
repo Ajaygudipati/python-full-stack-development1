{
  "nbformat": 4,
  "nbformat_minor": 0,
  "metadata": {
    "colab": {
      "name": "Untitled1.ipynb",
      "provenance": [],
      "authorship_tag": "ABX9TyMXNSI/9uz64th46VnninxD",
      "include_colab_link": true
    },
    "kernelspec": {
      "name": "python3",
      "display_name": "Python 3"
    },
    "language_info": {
      "name": "python"
    }
  },
  "cells": [
    {
      "cell_type": "markdown",
      "metadata": {
        "id": "view-in-github",
        "colab_type": "text"
      },
      "source": [
        "<a href=\"https://colab.research.google.com/github/Ajaygudipati/python-full-stack-development1/blob/main/Untitled1.ipynb\" target=\"_parent\"><img src=\"https://colab.research.google.com/assets/colab-badge.svg\" alt=\"Open In Colab\"/></a>"
      ]
    },
    {
      "cell_type": "code",
      "execution_count": null,
      "metadata": {
        "colab": {
          "base_uri": "https://localhost:8080/"
        },
        "id": "tOS5pS1Tvq2r",
        "outputId": "9eb9b78d-78f4-4444-c518-6de2c1754198"
      },
      "outputs": [
        {
          "output_type": "stream",
          "name": "stdout",
          "text": [
            "<class 'str'>\n"
          ]
        }
      ],
      "source": [
        "#empty tuple\n",
        "my_tuple=(\"hello\")\n",
        "print(type(my_tuple))"
      ]
    },
    {
      "cell_type": "code",
      "source": [
        "my_tuple=(\"hello\",)\n",
        "print(type(my_tuple))"
      ],
      "metadata": {
        "colab": {
          "base_uri": "https://localhost:8080/"
        },
        "id": "7kaH2mJQwP1l",
        "outputId": "c04e351d-9bfd-4e7b-82f1-9c30e73429b5"
      },
      "execution_count": null,
      "outputs": [
        {
          "output_type": "stream",
          "name": "stdout",
          "text": [
            "<class 'tuple'>\n"
          ]
        }
      ]
    },
    {
      "cell_type": "code",
      "source": [
        "my_tuple=\"hello\",\n",
        "print(type(my_tuple))"
      ],
      "metadata": {
        "colab": {
          "base_uri": "https://localhost:8080/"
        },
        "id": "PWosth_Rwby-",
        "outputId": "fe4221c3-2d7c-4625-d1ad-1a1fae5a4337"
      },
      "execution_count": null,
      "outputs": [
        {
          "output_type": "stream",
          "name": "stdout",
          "text": [
            "<class 'tuple'>\n"
          ]
        }
      ]
    },
    {
      "cell_type": "code",
      "source": [
        "my_tuple=()\n",
        "print(my_tuple)\n",
        "my_tuple=(\"1,2,3\")\n",
        "print(my_tuple)"
      ],
      "metadata": {
        "colab": {
          "base_uri": "https://localhost:8080/"
        },
        "id": "WKMinb4LwvIs",
        "outputId": "f23fb409-c654-4103-a668-0b6d5f4ab9e5"
      },
      "execution_count": null,
      "outputs": [
        {
          "output_type": "stream",
          "name": "stdout",
          "text": [
            "()\n",
            "1,2,3\n"
          ]
        }
      ]
    },
    {
      "cell_type": "code",
      "source": [
        "#nested tuple\n",
        "n_tuple = (\"ARJUN\", [8 , 4, 6], (1, 2, 3))\n",
        "\n",
        "print(n_tuple[0])\n",
        "print(n_tuple[1])\n",
        "\n",
        "print(n_tuple[0][0])\n",
        "print(n_tuple[1][0])"
      ],
      "metadata": {
        "colab": {
          "base_uri": "https://localhost:8080/"
        },
        "id": "86vQzP4ixYr6",
        "outputId": "53a31a83-34f6-4a3e-b1a4-86b24bf8fbea"
      },
      "execution_count": null,
      "outputs": [
        {
          "output_type": "stream",
          "name": "stdout",
          "text": [
            "ARJUN\n",
            "[8, 4, 6]\n",
            "A\n",
            "8\n"
          ]
        }
      ]
    },
    {
      "cell_type": "code",
      "source": [
        "n_tuple = (\"ARJUN\", [8 , 4, 6], (1, 2, 3))\n",
        "print(n_tuple)\n",
        "\n",
        "n_tuple[1][1]=20\n",
        "print(n_tuple)"
      ],
      "metadata": {
        "colab": {
          "base_uri": "https://localhost:8080/"
        },
        "id": "c8bjJ3kSyYj7",
        "outputId": "8d4a8ba3-d992-4410-833a-4c9866140ffa"
      },
      "execution_count": null,
      "outputs": [
        {
          "output_type": "stream",
          "name": "stdout",
          "text": [
            "('ARJUN', [8, 4, 6], (1, 2, 3))\n",
            "('ARJUN', [8, 20, 6], (1, 2, 3))\n"
          ]
        }
      ]
    }
  ]
}